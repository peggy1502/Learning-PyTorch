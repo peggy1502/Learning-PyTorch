{
 "cells": [
  {
   "cell_type": "markdown",
   "id": "formed-extra",
   "metadata": {
    "papermill": {
     "duration": 0.006868,
     "end_time": "2021-05-20T08:43:09.308214",
     "exception": false,
     "start_time": "2021-05-20T08:43:09.301346",
     "status": "completed"
    },
    "tags": []
   },
   "source": [
    "# Learning PyTorch: Custom nn Modules\n",
    "\n",
    "Source: https://pytorch.org/tutorials/beginner/pytorch_with_examples.html#pytorch-custom-nn-modules\n",
    "\n",
    "A third order polynomial, trained to predict `y=sin(x)` from `−π` to `pi` by minimizing squared Euclidean distance.\n",
    "\n",
    "This implementation defines the model as a custom Module subclass. Whenever you want a model more complex than a simple sequence of existing Modules you will need to define your model this way.\n",
    "\n",
    "We will use a problem of fitting `y=sin(x)` with a third order polynomial as our running example. The network will have four parameters, and will be trained with gradient descent to fit random data by minimizing the Euclidean distance between the network output and the true output.\n",
    "\n",
    "The `forward` function computes output Tensors from input Tensors. The `backward` function receives the gradient of the output Tensors with respect to some scalar value, and computes the gradient of the input Tensors with respect to that same scalar value.\n",
    "\n",
    "If `x` is a Tensor that has `x.requires_grad=True` then `x.grad` is another Tensor holding the gradient of `x` with respect to some scalar value."
   ]
  },
  {
   "cell_type": "code",
   "execution_count": 1,
   "id": "stopped-mills",
   "metadata": {
    "execution": {
     "iopub.execute_input": "2021-05-20T08:43:09.324814Z",
     "iopub.status.busy": "2021-05-20T08:43:09.323710Z",
     "iopub.status.idle": "2021-05-20T08:43:10.289249Z",
     "shell.execute_reply": "2021-05-20T08:43:10.288561Z",
     "shell.execute_reply.started": "2021-05-20T08:38:25.026243Z"
    },
    "papermill": {
     "duration": 0.975116,
     "end_time": "2021-05-20T08:43:10.289421",
     "exception": false,
     "start_time": "2021-05-20T08:43:09.314305",
     "status": "completed"
    },
    "tags": []
   },
   "outputs": [],
   "source": [
    "import torch\n",
    "import math\n",
    "\n",
    "class Polynomial3(torch.nn.Module):\n",
    "    def __init__(self):\n",
    "        \"\"\"\n",
    "        In the constructor we instantiate four parameters and assign them as\n",
    "        member parameters.\n",
    "        \"\"\"\n",
    "        super().__init__()\n",
    "        self.a = torch.nn.Parameter(torch.randn(()))\n",
    "        self.b = torch.nn.Parameter(torch.randn(()))\n",
    "        self.c = torch.nn.Parameter(torch.randn(()))\n",
    "        self.d = torch.nn.Parameter(torch.randn(()))\n",
    "\n",
    "    def forward(self, x):\n",
    "        \"\"\"\n",
    "        In the forward function we accept a Tensor of input data and we must return\n",
    "        a Tensor of output data. \n",
    "        We can use Modules defined in the constructor as well as arbitrary operators on Tensors.\n",
    "        \"\"\"\n",
    "        return self.a + self.b * x + self.c * x ** 2 + self.d * x ** 3\n",
    "\n",
    "    def string(self):\n",
    "        \"\"\"\n",
    "        Just like any class in Python, you can also define custom method on PyTorch modules\n",
    "        \"\"\"\n",
    "        return f'y = {self.a.item()} + {self.b.item()} x + {self.c.item()} x^2 + {self.d.item()} x^3'"
   ]
  },
  {
   "cell_type": "code",
   "execution_count": 2,
   "id": "affecting-alert",
   "metadata": {
    "execution": {
     "iopub.execute_input": "2021-05-20T08:43:10.307967Z",
     "iopub.status.busy": "2021-05-20T08:43:10.307128Z",
     "iopub.status.idle": "2021-05-20T08:43:10.371497Z",
     "shell.execute_reply": "2021-05-20T08:43:10.370802Z",
     "shell.execute_reply.started": "2021-05-20T08:38:31.133945Z"
    },
    "papermill": {
     "duration": 0.076339,
     "end_time": "2021-05-20T08:43:10.371641",
     "exception": false,
     "start_time": "2021-05-20T08:43:10.295302",
     "status": "completed"
    },
    "tags": []
   },
   "outputs": [],
   "source": [
    "# Create Tensors to hold input and outputs.\n",
    "x = torch.linspace(-math.pi, math.pi, 2000)\n",
    "y = torch.sin(x)"
   ]
  },
  {
   "cell_type": "code",
   "execution_count": 3,
   "id": "double-forth",
   "metadata": {
    "execution": {
     "iopub.execute_input": "2021-05-20T08:43:10.392182Z",
     "iopub.status.busy": "2021-05-20T08:43:10.391454Z",
     "iopub.status.idle": "2021-05-20T08:43:10.395121Z",
     "shell.execute_reply": "2021-05-20T08:43:10.395597Z",
     "shell.execute_reply.started": "2021-05-20T08:39:17.319174Z"
    },
    "papermill": {
     "duration": 0.018059,
     "end_time": "2021-05-20T08:43:10.395759",
     "exception": false,
     "start_time": "2021-05-20T08:43:10.377700",
     "status": "completed"
    },
    "tags": []
   },
   "outputs": [
    {
     "data": {
      "text/plain": [
       "(torch.Size([2000]), torch.Size([2000]))"
      ]
     },
     "execution_count": 3,
     "metadata": {},
     "output_type": "execute_result"
    }
   ],
   "source": [
    "# Both x and y will have torch.Size([2000]).\n",
    "x.size(), y.size()"
   ]
  },
  {
   "cell_type": "code",
   "execution_count": 4,
   "id": "saving-choir",
   "metadata": {
    "execution": {
     "iopub.execute_input": "2021-05-20T08:43:10.414099Z",
     "iopub.status.busy": "2021-05-20T08:43:10.413501Z",
     "iopub.status.idle": "2021-05-20T08:43:10.423890Z",
     "shell.execute_reply": "2021-05-20T08:43:10.424361Z",
     "shell.execute_reply.started": "2021-05-20T08:40:33.657351Z"
    },
    "papermill": {
     "duration": 0.022483,
     "end_time": "2021-05-20T08:43:10.424576",
     "exception": false,
     "start_time": "2021-05-20T08:43:10.402093",
     "status": "completed"
    },
    "tags": []
   },
   "outputs": [],
   "source": [
    "# Construct our model by instantiating the class defined above.\n",
    "model = Polynomial3()"
   ]
  },
  {
   "cell_type": "code",
   "execution_count": 5,
   "id": "fluid-excess",
   "metadata": {
    "execution": {
     "iopub.execute_input": "2021-05-20T08:43:10.440253Z",
     "iopub.status.busy": "2021-05-20T08:43:10.439664Z",
     "iopub.status.idle": "2021-05-20T08:43:11.351061Z",
     "shell.execute_reply": "2021-05-20T08:43:11.350561Z",
     "shell.execute_reply.started": "2021-05-20T08:41:47.634061Z"
    },
    "papermill": {
     "duration": 0.920169,
     "end_time": "2021-05-20T08:43:11.351202",
     "exception": false,
     "start_time": "2021-05-20T08:43:10.431033",
     "status": "completed"
    },
    "tags": []
   },
   "outputs": [
    {
     "name": "stdout",
     "output_type": "stream",
     "text": [
      "99 386.1968688964844\n",
      "199 274.6533508300781\n",
      "299 196.1319580078125\n",
      "399 140.8386993408203\n",
      "499 101.89057922363281\n",
      "599 74.4481201171875\n",
      "699 55.107215881347656\n",
      "799 41.472694396972656\n",
      "899 31.858680725097656\n",
      "999 25.078086853027344\n",
      "1099 20.294830322265625\n",
      "1199 16.91991424560547\n",
      "1299 14.538225173950195\n",
      "1399 12.85718822479248\n",
      "1499 11.670477867126465\n",
      "1599 10.832606315612793\n",
      "1699 10.240942001342773\n",
      "1799 9.823080062866211\n",
      "1899 9.527929306030273\n",
      "1999 9.319430351257324\n",
      "Result: y = 0.023481333628296852 + 0.8536451458930969 x + -0.004050920717418194 x^2 + -0.09289004653692245 x^3\n"
     ]
    }
   ],
   "source": [
    "# Construct our loss function and an Optimizer. \n",
    "# The call to model.parameters() in the SGD constructor will contain the \n",
    "# learnable parameters (defined with torch.nn.Parameter) which are members of the model.\n",
    "\n",
    "criterion = torch.nn.MSELoss(reduction='sum')\n",
    "optimizer = torch.optim.SGD(model.parameters(), lr=1e-6)\n",
    "\n",
    "for t in range(2000):\n",
    "    # Forward pass: Compute predicted y by passing x to the model.\n",
    "    y_pred = model(x)\n",
    "\n",
    "    # Compute and print loss.\n",
    "    loss = criterion(y_pred, y)\n",
    "    if t % 100 == 99: # print every 100 mini-batches\n",
    "        print(t, loss.item())\n",
    "\n",
    "    # Zero gradients, perform a backward pass, and update the weights.\n",
    "    optimizer.zero_grad()\n",
    "    loss.backward()\n",
    "    optimizer.step()\n",
    "\n",
    "print(f'Result: {model.string()}')"
   ]
  }
 ],
 "metadata": {
  "kernelspec": {
   "display_name": "Python 3",
   "language": "python",
   "name": "python3"
  },
  "language_info": {
   "codemirror_mode": {
    "name": "ipython",
    "version": 3
   },
   "file_extension": ".py",
   "mimetype": "text/x-python",
   "name": "python",
   "nbconvert_exporter": "python",
   "pygments_lexer": "ipython3",
   "version": "3.7.10"
  },
  "papermill": {
   "default_parameters": {},
   "duration": 10.690355,
   "end_time": "2021-05-20T08:43:12.696655",
   "environment_variables": {},
   "exception": null,
   "input_path": "__notebook__.ipynb",
   "output_path": "__notebook__.ipynb",
   "parameters": {},
   "start_time": "2021-05-20T08:43:02.006300",
   "version": "2.3.3"
  }
 },
 "nbformat": 4,
 "nbformat_minor": 5
}
