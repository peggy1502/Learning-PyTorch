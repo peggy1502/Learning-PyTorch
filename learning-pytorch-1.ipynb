{
 "cells": [
  {
   "cell_type": "markdown",
   "id": "latter-tonight",
   "metadata": {
    "papermill": {
     "duration": 0.031623,
     "end_time": "2021-05-20T08:15:05.368774",
     "exception": false,
     "start_time": "2021-05-20T08:15:05.337151",
     "status": "completed"
    },
    "tags": []
   },
   "source": [
    "# Learning PyTorch\n",
    "\n",
    "Learning PyTorch is a series of notebooks I created to learn PyTorch.\n",
    "\n",
    "Source: https://pytorch.org/tutorials/beginner/blitz/neural_networks_tutorial.html"
   ]
  },
  {
   "cell_type": "markdown",
   "id": "tight-mixture",
   "metadata": {
    "papermill": {
     "duration": 0.029742,
     "end_time": "2021-05-20T08:15:05.428815",
     "exception": false,
     "start_time": "2021-05-20T08:15:05.399073",
     "status": "completed"
    },
    "tags": []
   },
   "source": [
    "**Neural networks** can be constructed using the [`torch.nn` package](https://pytorch.org/docs/stable/nn.html#torch-nn).\n",
    "\n",
    "`nn` depends on `autograd` to define models and differentiate them. An `nn.Module` contains layers, and a method `forward(input)` that returns the `output`.\n",
    "\n",
    "**Convolutional Neural Network (convnet)** is a simple feed-forward network. It takes the input, feeds it through several layers one after the other, and then finally gives the output.\n",
    "\n",
    "A typical training procedure for a neural network is as follows:\n",
    "\n",
    "- Define the neural network that has some learnable parameters (or weights)\n",
    "- Iterate over a dataset of inputs\n",
    "- Process input through the network\n",
    "- Compute the loss (how far is the output from being correct)\n",
    "- Propagate gradients back into the network’s parameters\n",
    "- Update the weights of the network, typically using a simple update rule: `weight = weight - learning_rate * gradient`"
   ]
  },
  {
   "cell_type": "markdown",
   "id": "delayed-bracket",
   "metadata": {
    "papermill": {
     "duration": 0.030325,
     "end_time": "2021-05-20T08:15:05.489880",
     "exception": false,
     "start_time": "2021-05-20T08:15:05.459555",
     "status": "completed"
    },
    "tags": []
   },
   "source": [
    "## Define the Network\n",
    "\n",
    "Let's define the following network as below.\n",
    "\n",
    "We have a `forward` function, and the `backward` function (where gradients are computed) is automatically defined for us using `autograd`. We can use any of the Tensor operations in the `forward` function.\n",
    "\n",
    "The learnable parameters of a model are returned by `net.parameters()`."
   ]
  },
  {
   "cell_type": "code",
   "execution_count": 1,
   "id": "fifteen-skill",
   "metadata": {
    "execution": {
     "iopub.execute_input": "2021-05-20T08:15:05.564185Z",
     "iopub.status.busy": "2021-05-20T08:15:05.563519Z",
     "iopub.status.idle": "2021-05-20T08:15:06.813198Z",
     "shell.execute_reply": "2021-05-20T08:15:06.812251Z",
     "shell.execute_reply.started": "2021-05-20T07:44:35.876988Z"
    },
    "papermill": {
     "duration": 1.292917,
     "end_time": "2021-05-20T08:15:06.813365",
     "exception": false,
     "start_time": "2021-05-20T08:15:05.520448",
     "status": "completed"
    },
    "tags": []
   },
   "outputs": [],
   "source": [
    "import torch\n",
    "import torch.nn as nn\n",
    "import torch.nn.functional as F\n",
    "\n",
    "class MyNet(nn.Module):\n",
    "\n",
    "    def __init__(self):\n",
    "        super(MyNet, self).__init__()\n",
    "        # 1 input image channel, 6 output channels, 5x5 square convolution kernel\n",
    "        self.conv1 = nn.Conv2d(1, 6, 5)\n",
    "        self.conv2 = nn.Conv2d(6, 16, 5)\n",
    "        # an affine operation: y = Wx + b\n",
    "        self.fc1 = nn.Linear(16 * 5 * 5, 120)  # 5*5 from image dimension\n",
    "        self.fc2 = nn.Linear(120, 84)\n",
    "        self.fc3 = nn.Linear(84, 10)\n",
    "\n",
    "    def forward(self, x):\n",
    "        # Max pooling over a (2, 2) window\n",
    "        x = F.max_pool2d(F.relu(self.conv1(x)), (2, 2))\n",
    "        # If the size is a square, you can specify with a single number\n",
    "        x = F.max_pool2d(F.relu(self.conv2(x)), 2)\n",
    "        x = torch.flatten(x, 1) # flatten all dimensions except the batch dimension (i.e. start_dim = 1).\n",
    "        x = F.relu(self.fc1(x))\n",
    "        x = F.relu(self.fc2(x))\n",
    "        x = self.fc3(x)\n",
    "        return x"
   ]
  },
  {
   "cell_type": "code",
   "execution_count": 2,
   "id": "proper-annotation",
   "metadata": {
    "execution": {
     "iopub.execute_input": "2021-05-20T08:15:06.878760Z",
     "iopub.status.busy": "2021-05-20T08:15:06.878170Z",
     "iopub.status.idle": "2021-05-20T08:15:06.908353Z",
     "shell.execute_reply": "2021-05-20T08:15:06.907838Z",
     "shell.execute_reply.started": "2021-05-20T07:44:35.933457Z"
    },
    "papermill": {
     "duration": 0.064691,
     "end_time": "2021-05-20T08:15:06.908476",
     "exception": false,
     "start_time": "2021-05-20T08:15:06.843785",
     "status": "completed"
    },
    "tags": []
   },
   "outputs": [
    {
     "name": "stdout",
     "output_type": "stream",
     "text": [
      "MyNet(\n",
      "  (conv1): Conv2d(1, 6, kernel_size=(5, 5), stride=(1, 1))\n",
      "  (conv2): Conv2d(6, 16, kernel_size=(5, 5), stride=(1, 1))\n",
      "  (fc1): Linear(in_features=400, out_features=120, bias=True)\n",
      "  (fc2): Linear(in_features=120, out_features=84, bias=True)\n",
      "  (fc3): Linear(in_features=84, out_features=10, bias=True)\n",
      ")\n"
     ]
    }
   ],
   "source": [
    "net = MyNet()\n",
    "print(net)"
   ]
  },
  {
   "cell_type": "markdown",
   "id": "noticed-taste",
   "metadata": {
    "papermill": {
     "duration": 0.043574,
     "end_time": "2021-05-20T08:15:06.985557",
     "exception": false,
     "start_time": "2021-05-20T08:15:06.941983",
     "status": "completed"
    },
    "tags": []
   },
   "source": [
    "`nn.Parameter` is a kind of Tensor, that is automatically registered as a parameter when assigned as an attribute to a `Module`."
   ]
  },
  {
   "cell_type": "code",
   "execution_count": 3,
   "id": "hollywood-proportion",
   "metadata": {
    "execution": {
     "iopub.execute_input": "2021-05-20T08:15:07.051791Z",
     "iopub.status.busy": "2021-05-20T08:15:07.051183Z",
     "iopub.status.idle": "2021-05-20T08:15:07.054529Z",
     "shell.execute_reply": "2021-05-20T08:15:07.055108Z",
     "shell.execute_reply.started": "2021-05-20T07:44:35.968706Z"
    },
    "papermill": {
     "duration": 0.038416,
     "end_time": "2021-05-20T08:15:07.055268",
     "exception": false,
     "start_time": "2021-05-20T08:15:07.016852",
     "status": "completed"
    },
    "tags": []
   },
   "outputs": [
    {
     "name": "stdout",
     "output_type": "stream",
     "text": [
      "10\n",
      "torch.Size([6, 1, 5, 5])\n"
     ]
    }
   ],
   "source": [
    "params = list(net.parameters())\n",
    "print(len(params))\n",
    "\n",
    "print(params[0].size())  # conv1's .weight"
   ]
  },
  {
   "cell_type": "code",
   "execution_count": 4,
   "id": "alternate-dryer",
   "metadata": {
    "execution": {
     "iopub.execute_input": "2021-05-20T08:15:07.124709Z",
     "iopub.status.busy": "2021-05-20T08:15:07.123784Z",
     "iopub.status.idle": "2021-05-20T08:15:07.128008Z",
     "shell.execute_reply": "2021-05-20T08:15:07.128831Z",
     "shell.execute_reply.started": "2021-05-20T07:44:35.995753Z"
    },
    "papermill": {
     "duration": 0.042255,
     "end_time": "2021-05-20T08:15:07.128970",
     "exception": false,
     "start_time": "2021-05-20T08:15:07.086715",
     "status": "completed"
    },
    "tags": []
   },
   "outputs": [
    {
     "name": "stdout",
     "output_type": "stream",
     "text": [
      "torch.Size([6, 1, 5, 5])\n",
      "torch.Size([6])\n",
      "torch.Size([16, 6, 5, 5])\n",
      "torch.Size([16])\n",
      "torch.Size([120, 400])\n",
      "torch.Size([120])\n",
      "torch.Size([84, 120])\n",
      "torch.Size([84])\n",
      "torch.Size([10, 84])\n",
      "torch.Size([10])\n"
     ]
    }
   ],
   "source": [
    "for i in range(len(params)):\n",
    "    print(params[i].size())"
   ]
  },
  {
   "cell_type": "code",
   "execution_count": 5,
   "id": "spread-active",
   "metadata": {
    "execution": {
     "iopub.execute_input": "2021-05-20T08:15:07.195778Z",
     "iopub.status.busy": "2021-05-20T08:15:07.195226Z",
     "iopub.status.idle": "2021-05-20T08:15:07.301740Z",
     "shell.execute_reply": "2021-05-20T08:15:07.301125Z",
     "shell.execute_reply.started": "2021-05-20T07:44:36.134182Z"
    },
    "papermill": {
     "duration": 0.141573,
     "end_time": "2021-05-20T08:15:07.301904",
     "exception": false,
     "start_time": "2021-05-20T08:15:07.160331",
     "status": "completed"
    },
    "tags": []
   },
   "outputs": [
    {
     "name": "stdout",
     "output_type": "stream",
     "text": [
      "tensor([[-0.0459,  0.0954, -0.0344, -0.0545, -0.0928, -0.1139,  0.0577,  0.0809,\n",
      "         -0.0388,  0.0445]], grad_fn=<AddmmBackward>)\n"
     ]
    }
   ],
   "source": [
    "# Try a random 32x32 input\n",
    "\n",
    "input = torch.randn(1, 1, 32, 32)\n",
    "out = net(input)\n",
    "print(out)"
   ]
  },
  {
   "cell_type": "markdown",
   "id": "romance-gregory",
   "metadata": {
    "papermill": {
     "duration": 0.031382,
     "end_time": "2021-05-20T08:15:07.365116",
     "exception": false,
     "start_time": "2021-05-20T08:15:07.333734",
     "status": "completed"
    },
    "tags": []
   },
   "source": [
    "**Note:** `torch.nn` only supports mini-batches. The entire `torch.nn` package only supports inputs that are a mini-batch of samples, and not a single sample.\n",
    "\n",
    "For example, `nn.Conv2d` will take in a 4D Tensor of `nSamples x nChannels x Height x Width`.\n",
    "\n",
    "If you have a single sample, just use `input.unsqueeze(0)` to add a fake batch dimension."
   ]
  },
  {
   "cell_type": "code",
   "execution_count": 6,
   "id": "portuguese-taxation",
   "metadata": {
    "execution": {
     "iopub.execute_input": "2021-05-20T08:15:07.432094Z",
     "iopub.status.busy": "2021-05-20T08:15:07.431271Z",
     "iopub.status.idle": "2021-05-20T08:15:07.506840Z",
     "shell.execute_reply": "2021-05-20T08:15:07.506383Z",
     "shell.execute_reply.started": "2021-05-20T07:44:36.1546Z"
    },
    "papermill": {
     "duration": 0.11063,
     "end_time": "2021-05-20T08:15:07.506991",
     "exception": false,
     "start_time": "2021-05-20T08:15:07.396361",
     "status": "completed"
    },
    "tags": []
   },
   "outputs": [],
   "source": [
    "# Zero the gradient buffers of all parameters and backprops with random gradients.\n",
    "\n",
    "net.zero_grad()\n",
    "bk = out.backward(torch.randn(1, 10))"
   ]
  },
  {
   "cell_type": "code",
   "execution_count": 7,
   "id": "regular-underground",
   "metadata": {
    "execution": {
     "iopub.execute_input": "2021-05-20T08:15:07.580982Z",
     "iopub.status.busy": "2021-05-20T08:15:07.579625Z",
     "iopub.status.idle": "2021-05-20T08:15:07.585126Z",
     "shell.execute_reply": "2021-05-20T08:15:07.585736Z",
     "shell.execute_reply.started": "2021-05-20T07:44:36.165438Z"
    },
    "papermill": {
     "duration": 0.045841,
     "end_time": "2021-05-20T08:15:07.586031",
     "exception": false,
     "start_time": "2021-05-20T08:15:07.540190",
     "status": "completed"
    },
    "tags": []
   },
   "outputs": [
    {
     "name": "stdout",
     "output_type": "stream",
     "text": [
      "None\n"
     ]
    }
   ],
   "source": [
    "print(bk)"
   ]
  },
  {
   "cell_type": "markdown",
   "id": "eastern-regard",
   "metadata": {
    "papermill": {
     "duration": 0.05497,
     "end_time": "2021-05-20T08:15:07.694581",
     "exception": false,
     "start_time": "2021-05-20T08:15:07.639611",
     "status": "completed"
    },
    "tags": []
   },
   "source": [
    "## Loss Function\n",
    "\n",
    "A loss function takes the (output, target) pair of inputs, and computes a value that estimates how far away the output is from the target.\n",
    "\n",
    "There are several different [loss functions under the nn package](https://pytorch.org/docs/stable/nn.html#loss-functions) . A simple loss is: `nn.MSELoss` which computes the mean-squared error between the input and the target."
   ]
  },
  {
   "cell_type": "code",
   "execution_count": 8,
   "id": "higher-pastor",
   "metadata": {
    "execution": {
     "iopub.execute_input": "2021-05-20T08:15:07.826690Z",
     "iopub.status.busy": "2021-05-20T08:15:07.825856Z",
     "iopub.status.idle": "2021-05-20T08:15:07.838742Z",
     "shell.execute_reply": "2021-05-20T08:15:07.839384Z",
     "shell.execute_reply.started": "2021-05-20T07:44:36.177083Z"
    },
    "papermill": {
     "duration": 0.079768,
     "end_time": "2021-05-20T08:15:07.839570",
     "exception": false,
     "start_time": "2021-05-20T08:15:07.759802",
     "status": "completed"
    },
    "tags": []
   },
   "outputs": [
    {
     "data": {
      "text/plain": [
       "tensor([ 0.5090, -0.0825,  0.9759, -1.3555,  0.3941, -0.7330,  1.1685, -1.7318,\n",
       "         1.6088, -0.0488])"
      ]
     },
     "execution_count": 8,
     "metadata": {},
     "output_type": "execute_result"
    }
   ],
   "source": [
    "output = net(input)\n",
    "target = torch.randn(10)  # a dummy target, for example\n",
    "target"
   ]
  },
  {
   "cell_type": "code",
   "execution_count": 9,
   "id": "random-polish",
   "metadata": {
    "execution": {
     "iopub.execute_input": "2021-05-20T08:15:07.996269Z",
     "iopub.status.busy": "2021-05-20T08:15:07.995496Z",
     "iopub.status.idle": "2021-05-20T08:15:07.998436Z",
     "shell.execute_reply": "2021-05-20T08:15:07.999132Z",
     "shell.execute_reply.started": "2021-05-20T07:44:36.196391Z"
    },
    "papermill": {
     "duration": 0.088558,
     "end_time": "2021-05-20T08:15:07.999339",
     "exception": false,
     "start_time": "2021-05-20T08:15:07.910781",
     "status": "completed"
    },
    "tags": []
   },
   "outputs": [
    {
     "data": {
      "text/plain": [
       "tensor([[ 0.5090, -0.0825,  0.9759, -1.3555,  0.3941, -0.7330,  1.1685, -1.7318,\n",
       "          1.6088, -0.0488]])"
      ]
     },
     "execution_count": 9,
     "metadata": {},
     "output_type": "execute_result"
    }
   ],
   "source": [
    "target = target.view(1, -1)  # make it the same shape as output\n",
    "target"
   ]
  },
  {
   "cell_type": "code",
   "execution_count": 10,
   "id": "ultimate-spain",
   "metadata": {
    "execution": {
     "iopub.execute_input": "2021-05-20T08:15:08.206657Z",
     "iopub.status.busy": "2021-05-20T08:15:08.205631Z",
     "iopub.status.idle": "2021-05-20T08:15:08.225657Z",
     "shell.execute_reply": "2021-05-20T08:15:08.226440Z",
     "shell.execute_reply.started": "2021-05-20T07:44:36.209976Z"
    },
    "papermill": {
     "duration": 0.112068,
     "end_time": "2021-05-20T08:15:08.226798",
     "exception": false,
     "start_time": "2021-05-20T08:15:08.114730",
     "status": "completed"
    },
    "tags": []
   },
   "outputs": [
    {
     "name": "stdout",
     "output_type": "stream",
     "text": [
      "tensor(1.0917, grad_fn=<MseLossBackward>)\n"
     ]
    }
   ],
   "source": [
    "criterion = nn.MSELoss()\n",
    "\n",
    "loss = criterion(output, target)\n",
    "print(loss)"
   ]
  },
  {
   "cell_type": "markdown",
   "id": "quantitative-natural",
   "metadata": {
    "papermill": {
     "duration": 0.112196,
     "end_time": "2021-05-20T08:15:08.461524",
     "exception": false,
     "start_time": "2021-05-20T08:15:08.349328",
     "status": "completed"
    },
    "tags": []
   },
   "source": [
    "Now, if you follow loss in the backward direction, using its `.grad_fn` attribute, you will see a graph of computations that looks like this:\n",
    "\n",
    "> input -> conv2d -> relu -> maxpool2d -> conv2d -> relu -> maxpool2d\n",
    ">\n",
    ">         -> flatten -> linear -> relu -> linear -> relu -> linear\n",
    ">\n",
    ">         -> MSELoss\n",
    ">\n",
    ">         -> loss\n",
    "\n",
    "So, when we call `loss.backward()`, the whole graph is differentiated w.r.t. the neural net parameters, and all Tensors in the graph that have `requires_grad=True` will have their `.grad` Tensor accumulated with the gradient.\n",
    "\n",
    "For illustration, let us follow a few steps backward:"
   ]
  },
  {
   "cell_type": "code",
   "execution_count": 11,
   "id": "leading-review",
   "metadata": {
    "execution": {
     "iopub.execute_input": "2021-05-20T08:15:08.651232Z",
     "iopub.status.busy": "2021-05-20T08:15:08.650401Z",
     "iopub.status.idle": "2021-05-20T08:15:08.654035Z",
     "shell.execute_reply": "2021-05-20T08:15:08.651920Z",
     "shell.execute_reply.started": "2021-05-20T07:44:36.223009Z"
    },
    "papermill": {
     "duration": 0.077406,
     "end_time": "2021-05-20T08:15:08.654188",
     "exception": false,
     "start_time": "2021-05-20T08:15:08.576782",
     "status": "completed"
    },
    "tags": []
   },
   "outputs": [
    {
     "name": "stdout",
     "output_type": "stream",
     "text": [
      "<MseLossBackward object at 0x7f617a21ead0>\n",
      "<AddmmBackward object at 0x7f617a220390>\n",
      "<AccumulateGrad object at 0x7f617a20f190>\n"
     ]
    }
   ],
   "source": [
    "print(loss.grad_fn)  # MSELoss\n",
    "print(loss.grad_fn.next_functions[0][0])  # Linear\n",
    "print(loss.grad_fn.next_functions[0][0].next_functions[0][0])  # ReLU"
   ]
  },
  {
   "cell_type": "markdown",
   "id": "homeless-borough",
   "metadata": {
    "papermill": {
     "duration": 0.056186,
     "end_time": "2021-05-20T08:15:08.766502",
     "exception": false,
     "start_time": "2021-05-20T08:15:08.710316",
     "status": "completed"
    },
    "tags": []
   },
   "source": [
    "## Backprop\n",
    "\n",
    "To backpropagate the error all we have to do is to `loss.backward()`. You need to clear the existing gradients though, else gradients will be accumulated to existing gradients.\n",
    "\n",
    "Now we shall call `loss.backward()`, and have a look at conv1’s bias gradients before and after the backward."
   ]
  },
  {
   "cell_type": "code",
   "execution_count": 12,
   "id": "mobile-function",
   "metadata": {
    "execution": {
     "iopub.execute_input": "2021-05-20T08:15:08.888947Z",
     "iopub.status.busy": "2021-05-20T08:15:08.887861Z",
     "iopub.status.idle": "2021-05-20T08:15:08.900591Z",
     "shell.execute_reply": "2021-05-20T08:15:08.899827Z",
     "shell.execute_reply.started": "2021-05-20T07:44:36.237434Z"
    },
    "papermill": {
     "duration": 0.077783,
     "end_time": "2021-05-20T08:15:08.900748",
     "exception": false,
     "start_time": "2021-05-20T08:15:08.822965",
     "status": "completed"
    },
    "tags": []
   },
   "outputs": [
    {
     "name": "stdout",
     "output_type": "stream",
     "text": [
      "conv1.bias.grad before backward\n",
      "tensor([0., 0., 0., 0., 0., 0.])\n",
      "conv1.bias.grad after backward\n",
      "tensor([-0.0006,  0.0024,  0.0083,  0.0038,  0.0056, -0.0045])\n"
     ]
    }
   ],
   "source": [
    "net.zero_grad()     # zeroes the gradient buffers of all parameters\n",
    "\n",
    "print('conv1.bias.grad before backward')\n",
    "print(net.conv1.bias.grad)\n",
    "\n",
    "loss.backward()\n",
    "\n",
    "print('conv1.bias.grad after backward')\n",
    "print(net.conv1.bias.grad)"
   ]
  },
  {
   "cell_type": "markdown",
   "id": "varying-wesley",
   "metadata": {
    "papermill": {
     "duration": 0.034073,
     "end_time": "2021-05-20T08:15:08.969341",
     "exception": false,
     "start_time": "2021-05-20T08:15:08.935268",
     "status": "completed"
    },
    "tags": []
   },
   "source": [
    "## Update the weights\n",
    "\n",
    "The simplest update rule used in practice is the Stochastic Gradient Descent (SGD):\n",
    "\n",
    "`weight = weight - learning_rate * gradient`"
   ]
  },
  {
   "cell_type": "code",
   "execution_count": 13,
   "id": "elegant-plane",
   "metadata": {
    "execution": {
     "iopub.execute_input": "2021-05-20T08:15:09.043813Z",
     "iopub.status.busy": "2021-05-20T08:15:09.042422Z",
     "iopub.status.idle": "2021-05-20T08:15:09.046848Z",
     "shell.execute_reply": "2021-05-20T08:15:09.047254Z",
     "shell.execute_reply.started": "2021-05-20T07:44:36.263565Z"
    },
    "papermill": {
     "duration": 0.043993,
     "end_time": "2021-05-20T08:15:09.047379",
     "exception": false,
     "start_time": "2021-05-20T08:15:09.003386",
     "status": "completed"
    },
    "tags": []
   },
   "outputs": [],
   "source": [
    "# We can implement this using simple Python code:\n",
    "\n",
    "learning_rate = 0.01\n",
    "for f in net.parameters():\n",
    "    f.data.sub_(f.grad.data * learning_rate)"
   ]
  },
  {
   "cell_type": "markdown",
   "id": "final-alliance",
   "metadata": {
    "papermill": {
     "duration": 0.033727,
     "end_time": "2021-05-20T08:15:09.114881",
     "exception": false,
     "start_time": "2021-05-20T08:15:09.081154",
     "status": "completed"
    },
    "tags": []
   },
   "source": [
    "As we're using neural networks, we want to use various different update rules such as SGD, Nesterov-SGD, Adam, RMSProp, etc. To enable this, we have a small package: `torch.optim` that implements all these methods.\n",
    "\n",
    "Observe how gradient buffers had to be manually set to zero using `optimizer.zero_grad()`. This is because gradients are accumulated as explained in the Backprop section."
   ]
  },
  {
   "cell_type": "code",
   "execution_count": 14,
   "id": "immediate-serum",
   "metadata": {
    "execution": {
     "iopub.execute_input": "2021-05-20T08:15:09.188436Z",
     "iopub.status.busy": "2021-05-20T08:15:09.187503Z",
     "iopub.status.idle": "2021-05-20T08:15:09.194376Z",
     "shell.execute_reply": "2021-05-20T08:15:09.194905Z",
     "shell.execute_reply.started": "2021-05-20T07:44:36.278669Z"
    },
    "papermill": {
     "duration": 0.046394,
     "end_time": "2021-05-20T08:15:09.195038",
     "exception": false,
     "start_time": "2021-05-20T08:15:09.148644",
     "status": "completed"
    },
    "tags": []
   },
   "outputs": [],
   "source": [
    "import torch.optim as optim\n",
    "\n",
    "# create your optimizer\n",
    "optimizer = optim.SGD(net.parameters(), lr=0.01)\n",
    "\n",
    "# in your training loop:\n",
    "optimizer.zero_grad()            # zero the gradient buffers\n",
    "output = net(input)\n",
    "loss = criterion(output, target) # criterion = nn.MSELoss()\n",
    "loss.backward()\n",
    "optimizer.step()                 # Does the update"
   ]
  },
  {
   "cell_type": "markdown",
   "id": "compound-bahrain",
   "metadata": {
    "papermill": {
     "duration": 0.034068,
     "end_time": "2021-05-20T08:15:09.263290",
     "exception": false,
     "start_time": "2021-05-20T08:15:09.229222",
     "status": "completed"
    },
    "tags": []
   },
   "source": [
    "# Example: Training an image classifier\n",
    "\n",
    "Here, we will use the CIFAR10 dataset. It has the classes: ‘airplane’, ‘automobile’, ‘bird’, ‘cat’, ‘deer’, ‘dog’, ‘frog’, ‘horse’, ‘ship’, ‘truck’. The images in CIFAR-10 are of size 3x32x32, i.e. 3-channel color images of 32x32 pixels in size."
   ]
  },
  {
   "cell_type": "code",
   "execution_count": 15,
   "id": "together-closing",
   "metadata": {
    "execution": {
     "iopub.execute_input": "2021-05-20T08:15:09.335762Z",
     "iopub.status.busy": "2021-05-20T08:15:09.335119Z",
     "iopub.status.idle": "2021-05-20T08:15:09.496625Z",
     "shell.execute_reply": "2021-05-20T08:15:09.495503Z",
     "shell.execute_reply.started": "2021-05-20T07:44:36.306797Z"
    },
    "papermill": {
     "duration": 0.199707,
     "end_time": "2021-05-20T08:15:09.496770",
     "exception": false,
     "start_time": "2021-05-20T08:15:09.297063",
     "status": "completed"
    },
    "tags": []
   },
   "outputs": [],
   "source": [
    "import torch\n",
    "import torchvision\n",
    "import torchvision.transforms as transforms"
   ]
  },
  {
   "cell_type": "markdown",
   "id": "prime-words",
   "metadata": {
    "papermill": {
     "duration": 0.032673,
     "end_time": "2021-05-20T08:15:09.563448",
     "exception": false,
     "start_time": "2021-05-20T08:15:09.530775",
     "status": "completed"
    },
    "tags": []
   },
   "source": [
    "### 1. Load and normalize CIFAR10\n",
    "\n",
    "The output of torchvision datasets are PILImage images of range [0, 1]. We transform them to Tensors of normalized range [-1, 1].\n",
    "\n",
    "**Note:** `ToTensor()` converts a PIL image or NumPy `ndarray` into a `FloatTensor`, and scales the image’s pixel intensity values in the range [0., 1.]"
   ]
  },
  {
   "cell_type": "code",
   "execution_count": 16,
   "id": "angry-montana",
   "metadata": {
    "execution": {
     "iopub.execute_input": "2021-05-20T08:15:09.635399Z",
     "iopub.status.busy": "2021-05-20T08:15:09.634734Z",
     "iopub.status.idle": "2021-05-20T08:15:18.397593Z",
     "shell.execute_reply": "2021-05-20T08:15:18.397106Z",
     "shell.execute_reply.started": "2021-05-20T07:44:36.316206Z"
    },
    "papermill": {
     "duration": 8.801735,
     "end_time": "2021-05-20T08:15:18.397717",
     "exception": false,
     "start_time": "2021-05-20T08:15:09.595982",
     "status": "completed"
    },
    "tags": []
   },
   "outputs": [
    {
     "name": "stdout",
     "output_type": "stream",
     "text": [
      "Downloading https://www.cs.toronto.edu/~kriz/cifar-10-python.tar.gz to ./data/cifar-10-python.tar.gz\n"
     ]
    },
    {
     "data": {
      "application/vnd.jupyter.widget-view+json": {
       "model_id": "dec512ce73d441579d0229c82ba66af7",
       "version_major": 2,
       "version_minor": 0
      },
      "text/plain": [
       "0it [00:00, ?it/s]"
      ]
     },
     "metadata": {},
     "output_type": "display_data"
    },
    {
     "name": "stdout",
     "output_type": "stream",
     "text": [
      "Extracting ./data/cifar-10-python.tar.gz to ./data\n",
      "Files already downloaded and verified\n"
     ]
    }
   ],
   "source": [
    "transform = transforms.Compose([transforms.ToTensor(),\n",
    "                                transforms.Normalize((0.5, 0.5, 0.5), (0.5, 0.5, 0.5))\n",
    "                               ])\n",
    "\n",
    "batch_size = 4\n",
    "\n",
    "trainset = torchvision.datasets.CIFAR10(root='./data', train=True,\n",
    "                                        download=True, transform=transform)\n",
    "trainloader = torch.utils.data.DataLoader(trainset, batch_size=batch_size,\n",
    "                                          shuffle=True, num_workers=2)\n",
    "\n",
    "testset = torchvision.datasets.CIFAR10(root='./data', train=False,\n",
    "                                       download=True, transform=transform)\n",
    "testloader = torch.utils.data.DataLoader(testset, batch_size=batch_size,\n",
    "                                         shuffle=False, num_workers=2)\n",
    "\n",
    "classes = ('plane', 'car', 'bird', 'cat',\n",
    "           'deer', 'dog', 'frog', 'horse', 'ship', 'truck')"
   ]
  },
  {
   "cell_type": "code",
   "execution_count": 17,
   "id": "finished-earth",
   "metadata": {
    "execution": {
     "iopub.execute_input": "2021-05-20T08:15:18.475512Z",
     "iopub.status.busy": "2021-05-20T08:15:18.474765Z",
     "iopub.status.idle": "2021-05-20T08:15:18.749587Z",
     "shell.execute_reply": "2021-05-20T08:15:18.750753Z",
     "shell.execute_reply.started": "2021-05-20T07:44:37.941864Z"
    },
    "papermill": {
     "duration": 0.317598,
     "end_time": "2021-05-20T08:15:18.750965",
     "exception": false,
     "start_time": "2021-05-20T08:15:18.433367",
     "status": "completed"
    },
    "tags": []
   },
   "outputs": [
    {
     "data": {
      "image/png": "[encoded data removed]",
      "text/plain": [
       "<Figure size 432x288 with 1 Axes>"
      ]
     },
     "metadata": {
      "needs_background": "light"
     },
     "output_type": "display_data"
    },
    {
     "name": "stdout",
     "output_type": "stream",
     "text": [
      "truck  deer  ship  frog\n"
     ]
    }
   ],
   "source": [
    "import matplotlib.pyplot as plt\n",
    "import numpy as np\n",
    "\n",
    "# functions to show an image\n",
    "\n",
    "def imshow(img):\n",
    "    img = img / 2 + 0.5     # unnormalize\n",
    "    npimg = img.numpy()\n",
    "    plt.imshow(np.transpose(npimg, (1, 2, 0)))\n",
    "    plt.show()\n",
    "\n",
    "# Get some random training images\n",
    "dataiter = iter(trainloader)\n",
    "images, labels = dataiter.next()\n",
    "\n",
    "# Show images\n",
    "imshow(torchvision.utils.make_grid(images))\n",
    "# print labels\n",
    "print(' '.join('%5s' % classes[labels[j]] for j in range(batch_size)))"
   ]
  },
  {
   "cell_type": "markdown",
   "id": "following-memorial",
   "metadata": {
    "papermill": {
     "duration": 0.067348,
     "end_time": "2021-05-20T08:15:18.897964",
     "exception": false,
     "start_time": "2021-05-20T08:15:18.830616",
     "status": "completed"
    },
    "tags": []
   },
   "source": [
    "### 2. Define a Convolutional Neural Network"
   ]
  },
  {
   "cell_type": "code",
   "execution_count": 18,
   "id": "impossible-principle",
   "metadata": {
    "execution": {
     "iopub.execute_input": "2021-05-20T08:15:19.026463Z",
     "iopub.status.busy": "2021-05-20T08:15:19.025532Z",
     "iopub.status.idle": "2021-05-20T08:15:19.032754Z",
     "shell.execute_reply": "2021-05-20T08:15:19.033703Z",
     "shell.execute_reply.started": "2021-05-20T07:44:38.166284Z"
    },
    "papermill": {
     "duration": 0.076612,
     "end_time": "2021-05-20T08:15:19.033900",
     "exception": false,
     "start_time": "2021-05-20T08:15:18.957288",
     "status": "completed"
    },
    "tags": []
   },
   "outputs": [],
   "source": [
    "import torch.nn as nn\n",
    "import torch.nn.functional as F\n",
    "\n",
    "class MyNet(nn.Module):\n",
    "    def __init__(self):\n",
    "        super().__init__()\n",
    "        self.conv1 = nn.Conv2d(3, 6, 5)\n",
    "        self.pool = nn.MaxPool2d(2, 2)\n",
    "        self.conv2 = nn.Conv2d(6, 16, 5)\n",
    "        self.fc1 = nn.Linear(16 * 5 * 5, 120)\n",
    "        self.fc2 = nn.Linear(120, 84)\n",
    "        self.fc3 = nn.Linear(84, 10)\n",
    "\n",
    "    def forward(self, x):\n",
    "        x = self.pool(F.relu(self.conv1(x)))\n",
    "        x = self.pool(F.relu(self.conv2(x)))\n",
    "        x = torch.flatten(x, 1) # flatten all dimensions except batch (i.e. start_dim = 1).\n",
    "        x = F.relu(self.fc1(x))\n",
    "        x = F.relu(self.fc2(x))\n",
    "        x = self.fc3(x)\n",
    "        return x"
   ]
  },
  {
   "cell_type": "code",
   "execution_count": 19,
   "id": "anonymous-collector",
   "metadata": {
    "execution": {
     "iopub.execute_input": "2021-05-20T08:15:19.144705Z",
     "iopub.status.busy": "2021-05-20T08:15:19.143961Z",
     "iopub.status.idle": "2021-05-20T08:15:19.150143Z",
     "shell.execute_reply": "2021-05-20T08:15:19.149729Z",
     "shell.execute_reply.started": "2021-05-20T07:44:38.177135Z"
    },
    "papermill": {
     "duration": 0.055174,
     "end_time": "2021-05-20T08:15:19.150261",
     "exception": false,
     "start_time": "2021-05-20T08:15:19.095087",
     "status": "completed"
    },
    "tags": []
   },
   "outputs": [
    {
     "data": {
      "text/plain": [
       "MyNet(\n",
       "  (conv1): Conv2d(3, 6, kernel_size=(5, 5), stride=(1, 1))\n",
       "  (pool): MaxPool2d(kernel_size=2, stride=2, padding=0, dilation=1, ceil_mode=False)\n",
       "  (conv2): Conv2d(6, 16, kernel_size=(5, 5), stride=(1, 1))\n",
       "  (fc1): Linear(in_features=400, out_features=120, bias=True)\n",
       "  (fc2): Linear(in_features=120, out_features=84, bias=True)\n",
       "  (fc3): Linear(in_features=84, out_features=10, bias=True)\n",
       ")"
      ]
     },
     "execution_count": 19,
     "metadata": {},
     "output_type": "execute_result"
    }
   ],
   "source": [
    "net = MyNet()\n",
    "net"
   ]
  },
  {
   "cell_type": "markdown",
   "id": "thousand-machinery",
   "metadata": {
    "papermill": {
     "duration": 0.036856,
     "end_time": "2021-05-20T08:15:19.224856",
     "exception": false,
     "start_time": "2021-05-20T08:15:19.188000",
     "status": "completed"
    },
    "tags": []
   },
   "source": [
    "### 3. Define a [Loss Function](https://pytorch.org/docs/stable/nn.html#loss-functions) and [Optimizer](https://pytorch.org/docs/stable/optim.html)"
   ]
  },
  {
   "cell_type": "code",
   "execution_count": 20,
   "id": "capital-thousand",
   "metadata": {
    "execution": {
     "iopub.execute_input": "2021-05-20T08:15:19.303738Z",
     "iopub.status.busy": "2021-05-20T08:15:19.303155Z",
     "iopub.status.idle": "2021-05-20T08:15:19.306765Z",
     "shell.execute_reply": "2021-05-20T08:15:19.307580Z",
     "shell.execute_reply.started": "2021-05-20T07:44:38.190505Z"
    },
    "papermill": {
     "duration": 0.045675,
     "end_time": "2021-05-20T08:15:19.307704",
     "exception": false,
     "start_time": "2021-05-20T08:15:19.262029",
     "status": "completed"
    },
    "tags": []
   },
   "outputs": [],
   "source": [
    "import torch.optim as optim\n",
    "\n",
    "criterion = nn.CrossEntropyLoss()\n",
    "optimizer = optim.SGD(net.parameters(), lr=0.001, momentum=0.9)"
   ]
  },
  {
   "cell_type": "markdown",
   "id": "freelance-toddler",
   "metadata": {
    "papermill": {
     "duration": 0.036877,
     "end_time": "2021-05-20T08:15:19.382270",
     "exception": false,
     "start_time": "2021-05-20T08:15:19.345393",
     "status": "completed"
    },
    "tags": []
   },
   "source": [
    "### 4. Train the network\n",
    "\n",
    "We simply have to loop over our data iterator, and feed the inputs to the network and optimize."
   ]
  },
  {
   "cell_type": "code",
   "execution_count": 21,
   "id": "greatest-comedy",
   "metadata": {
    "execution": {
     "iopub.execute_input": "2021-05-20T08:15:19.469298Z",
     "iopub.status.busy": "2021-05-20T08:15:19.461283Z",
     "iopub.status.idle": "2021-05-20T08:17:28.231188Z",
     "shell.execute_reply": "2021-05-20T08:17:28.231762Z",
     "shell.execute_reply.started": "2021-05-20T07:44:38.198758Z"
    },
    "papermill": {
     "duration": 128.813268,
     "end_time": "2021-05-20T08:17:28.231997",
     "exception": false,
     "start_time": "2021-05-20T08:15:19.418729",
     "status": "completed"
    },
    "tags": []
   },
   "outputs": [
    {
     "name": "stdout",
     "output_type": "stream",
     "text": [
      "[1,  2000] loss: 2.168\n",
      "[1,  4000] loss: 1.844\n",
      "[1,  6000] loss: 1.658\n",
      "[1,  8000] loss: 1.570\n",
      "[1, 10000] loss: 1.511\n",
      "[1, 12000] loss: 1.472\n",
      "[2,  2000] loss: 1.406\n",
      "[2,  4000] loss: 1.386\n",
      "[2,  6000] loss: 1.357\n",
      "[2,  8000] loss: 1.350\n",
      "[2, 10000] loss: 1.286\n",
      "[2, 12000] loss: 1.291\n",
      "Finished Training\n"
     ]
    }
   ],
   "source": [
    "for epoch in range(2):  # loop over the dataset multiple times\n",
    "\n",
    "    running_loss = 0.0\n",
    "    for i, data in enumerate(trainloader, 0):\n",
    "        # get the inputs; data is a list of [inputs, labels]\n",
    "        inputs, labels = data\n",
    "\n",
    "        # zero the parameter gradients\n",
    "        optimizer.zero_grad()\n",
    "\n",
    "        # forward + backward + optimize\n",
    "        outputs = net(inputs)\n",
    "        loss = criterion(outputs, labels)\n",
    "        loss.backward()\n",
    "        optimizer.step()\n",
    "\n",
    "        # print statistics\n",
    "        running_loss += loss.item()\n",
    "        if i % 2000 == 1999:    # print every 2000 mini-batches\n",
    "            print('[%d, %5d] loss: %.3f' %\n",
    "                  (epoch + 1, i + 1, running_loss / 2000))\n",
    "            running_loss = 0.0\n",
    "\n",
    "print('Finished Training')"
   ]
  },
  {
   "cell_type": "markdown",
   "id": "italic-marina",
   "metadata": {
    "papermill": {
     "duration": 0.039297,
     "end_time": "2021-05-20T08:17:28.311004",
     "exception": false,
     "start_time": "2021-05-20T08:17:28.271707",
     "status": "completed"
    },
    "tags": []
   },
   "source": [
    "See [here](https://pytorch.org/docs/stable/notes/serialization.html) for more details on saving PyTorch models."
   ]
  },
  {
   "cell_type": "code",
   "execution_count": 22,
   "id": "exterior-arabic",
   "metadata": {
    "execution": {
     "iopub.execute_input": "2021-05-20T08:17:28.393609Z",
     "iopub.status.busy": "2021-05-20T08:17:28.393041Z",
     "iopub.status.idle": "2021-05-20T08:17:28.399126Z",
     "shell.execute_reply": "2021-05-20T08:17:28.398670Z",
     "shell.execute_reply.started": "2021-05-20T07:46:43.740579Z"
    },
    "papermill": {
     "duration": 0.048801,
     "end_time": "2021-05-20T08:17:28.399238",
     "exception": false,
     "start_time": "2021-05-20T08:17:28.350437",
     "status": "completed"
    },
    "tags": []
   },
   "outputs": [],
   "source": [
    "# Let’s quickly save our trained model:\n",
    "\n",
    "PATH = './cifar_net.pth'\n",
    "torch.save(net.state_dict(), PATH)"
   ]
  },
  {
   "cell_type": "markdown",
   "id": "endangered-planner",
   "metadata": {
    "papermill": {
     "duration": 0.038383,
     "end_time": "2021-05-20T08:17:28.476927",
     "exception": false,
     "start_time": "2021-05-20T08:17:28.438544",
     "status": "completed"
    },
    "tags": []
   },
   "source": [
    "### 5. Test the network on the test data\n",
    "\n",
    "We will check this by predicting the class label that the neural network outputs, and checking it against the ground-truth. If the prediction is correct, we add the sample to the list of correct predictions.\n"
   ]
  },
  {
   "cell_type": "code",
   "execution_count": 23,
   "id": "brutal-palace",
   "metadata": {
    "execution": {
     "iopub.execute_input": "2021-05-20T08:17:28.560147Z",
     "iopub.status.busy": "2021-05-20T08:17:28.558941Z",
     "iopub.status.idle": "2021-05-20T08:17:28.737604Z",
     "shell.execute_reply": "2021-05-20T08:17:28.738206Z",
     "shell.execute_reply.started": "2021-05-20T07:46:43.749274Z"
    },
    "papermill": {
     "duration": 0.222852,
     "end_time": "2021-05-20T08:17:28.738392",
     "exception": false,
     "start_time": "2021-05-20T08:17:28.515540",
     "status": "completed"
    },
    "tags": []
   },
   "outputs": [
    {
     "data": {
      "image/png": "[encoded data removed]",
      "text/plain": [
       "<Figure size 432x288 with 1 Axes>"
      ]
     },
     "metadata": {
      "needs_background": "light"
     },
     "output_type": "display_data"
    },
    {
     "name": "stdout",
     "output_type": "stream",
     "text": [
      "GroundTruth:    cat  ship  ship plane\n"
     ]
    }
   ],
   "source": [
    "dataiter = iter(testloader)\n",
    "images, labels = dataiter.next()\n",
    "\n",
    "# print images\n",
    "imshow(torchvision.utils.make_grid(images))\n",
    "print('GroundTruth: ', ' '.join('%5s' % classes[labels[j]] for j in range(4)))"
   ]
  },
  {
   "cell_type": "code",
   "execution_count": 24,
   "id": "square-mongolia",
   "metadata": {
    "execution": {
     "iopub.execute_input": "2021-05-20T08:17:28.826783Z",
     "iopub.status.busy": "2021-05-20T08:17:28.826048Z",
     "iopub.status.idle": "2021-05-20T08:17:28.833397Z",
     "shell.execute_reply": "2021-05-20T08:17:28.833007Z",
     "shell.execute_reply.started": "2021-05-20T07:46:43.971403Z"
    },
    "papermill": {
     "duration": 0.052682,
     "end_time": "2021-05-20T08:17:28.833502",
     "exception": false,
     "start_time": "2021-05-20T08:17:28.780820",
     "status": "completed"
    },
    "tags": []
   },
   "outputs": [
    {
     "data": {
      "text/plain": [
       "<All keys matched successfully>"
      ]
     },
     "execution_count": 24,
     "metadata": {},
     "output_type": "execute_result"
    }
   ],
   "source": [
    "# Let’s load back in our saved model\n",
    "\n",
    "net = MyNet()\n",
    "net.load_state_dict(torch.load(PATH))"
   ]
  },
  {
   "cell_type": "code",
   "execution_count": 25,
   "id": "typical-utility",
   "metadata": {
    "execution": {
     "iopub.execute_input": "2021-05-20T08:17:28.920236Z",
     "iopub.status.busy": "2021-05-20T08:17:28.919279Z",
     "iopub.status.idle": "2021-05-20T08:17:28.926218Z",
     "shell.execute_reply": "2021-05-20T08:17:28.925810Z",
     "shell.execute_reply.started": "2021-05-20T07:46:43.984032Z"
    },
    "papermill": {
     "duration": 0.051685,
     "end_time": "2021-05-20T08:17:28.926322",
     "exception": false,
     "start_time": "2021-05-20T08:17:28.874637",
     "status": "completed"
    },
    "tags": []
   },
   "outputs": [
    {
     "data": {
      "text/plain": [
       "tensor([[ 0.1022, -2.0548,  1.2628,  1.5284, -0.6343,  0.2351,  0.1090, -0.7829,\n",
       "          0.1782, -1.8426],\n",
       "        [ 5.9501,  6.5649, -1.2271, -3.9855, -3.1814, -5.2015, -4.9254, -2.4495,\n",
       "          4.8837,  4.5311],\n",
       "        [ 2.5801,  3.3837, -0.4820, -1.9409, -1.5686, -2.8354, -2.5442, -1.5169,\n",
       "          2.9239,  2.0980],\n",
       "        [ 5.7825,  0.3724,  1.3130, -2.4857,  0.2071, -3.7243, -4.5106, -0.6368,\n",
       "          3.8801,  1.2486]], grad_fn=<AddmmBackward>)"
      ]
     },
     "execution_count": 25,
     "metadata": {},
     "output_type": "execute_result"
    }
   ],
   "source": [
    "# Let us see what the neural network thinks these examples above are\n",
    "\n",
    "outputs = net(images)\n",
    "outputs"
   ]
  },
  {
   "cell_type": "code",
   "execution_count": 26,
   "id": "chubby-allergy",
   "metadata": {
    "execution": {
     "iopub.execute_input": "2021-05-20T08:17:29.013714Z",
     "iopub.status.busy": "2021-05-20T08:17:29.013223Z",
     "iopub.status.idle": "2021-05-20T08:17:29.018565Z",
     "shell.execute_reply": "2021-05-20T08:17:29.018970Z",
     "shell.execute_reply.started": "2021-05-20T07:46:43.995603Z"
    },
    "papermill": {
     "duration": 0.050793,
     "end_time": "2021-05-20T08:17:29.019091",
     "exception": false,
     "start_time": "2021-05-20T08:17:28.968298",
     "status": "completed"
    },
    "tags": []
   },
   "outputs": [
    {
     "data": {
      "text/plain": [
       "torch.Size([4, 10])"
      ]
     },
     "execution_count": 26,
     "metadata": {},
     "output_type": "execute_result"
    }
   ],
   "source": [
    "outputs.shape"
   ]
  },
  {
   "cell_type": "markdown",
   "id": "falling-seating",
   "metadata": {
    "papermill": {
     "duration": 0.041364,
     "end_time": "2021-05-20T08:17:29.102735",
     "exception": false,
     "start_time": "2021-05-20T08:17:29.061371",
     "status": "completed"
    },
    "tags": []
   },
   "source": [
    "The outputs are energies for the 10 classes. The higher the energy for a class, the more the network thinks that the image is of the particular class. So, let’s get the index of the highest energy:"
   ]
  },
  {
   "cell_type": "code",
   "execution_count": 27,
   "id": "saving-retrieval",
   "metadata": {
    "execution": {
     "iopub.execute_input": "2021-05-20T08:17:29.191904Z",
     "iopub.status.busy": "2021-05-20T08:17:29.191304Z",
     "iopub.status.idle": "2021-05-20T08:17:29.194509Z",
     "shell.execute_reply": "2021-05-20T08:17:29.195085Z",
     "shell.execute_reply.started": "2021-05-20T07:46:44.003301Z"
    },
    "papermill": {
     "duration": 0.050649,
     "end_time": "2021-05-20T08:17:29.195247",
     "exception": false,
     "start_time": "2021-05-20T08:17:29.144598",
     "status": "completed"
    },
    "tags": []
   },
   "outputs": [
    {
     "name": "stdout",
     "output_type": "stream",
     "text": [
      "Predicted:    cat   car   car plane\n"
     ]
    }
   ],
   "source": [
    "_, predicted = torch.max(outputs, 1)\n",
    "\n",
    "print('Predicted: ', ' '.join('%5s' % classes[predicted[j]]\n",
    "                              for j in range(4)))"
   ]
  },
  {
   "cell_type": "code",
   "execution_count": 28,
   "id": "transsexual-broadcast",
   "metadata": {
    "execution": {
     "iopub.execute_input": "2021-05-20T08:17:29.285747Z",
     "iopub.status.busy": "2021-05-20T08:17:29.284908Z",
     "iopub.status.idle": "2021-05-20T08:17:37.488350Z",
     "shell.execute_reply": "2021-05-20T08:17:37.488955Z",
     "shell.execute_reply.started": "2021-05-20T07:46:44.01315Z"
    },
    "papermill": {
     "duration": 8.250734,
     "end_time": "2021-05-20T08:17:37.489152",
     "exception": false,
     "start_time": "2021-05-20T08:17:29.238418",
     "status": "completed"
    },
    "tags": []
   },
   "outputs": [
    {
     "name": "stdout",
     "output_type": "stream",
     "text": [
      "Accuracy of the network on the 10000 test images: 55 %\n"
     ]
    }
   ],
   "source": [
    "# Let us look at how the network performs on the whole dataset.\n",
    "\n",
    "correct = 0\n",
    "total = 0\n",
    "\n",
    "# Since we're not training, we don't need to calculate the gradients for our outputs\n",
    "with torch.no_grad():\n",
    "    for data in testloader:\n",
    "        images, labels = data\n",
    "        # Calculate outputs by running images through the network\n",
    "        outputs = net(images)\n",
    "        # The class with the highest energy is what we choose as prediction\n",
    "        _, predicted = torch.max(outputs.data, 1)\n",
    "        total += labels.size(0)\n",
    "        correct += (predicted == labels).sum().item()\n",
    "\n",
    "print('Accuracy of the network on the 10000 test images: %d %%' % (\n",
    "    100 * correct / total))"
   ]
  },
  {
   "cell_type": "markdown",
   "id": "affected-stanley",
   "metadata": {
    "papermill": {
     "duration": 0.042011,
     "end_time": "2021-05-20T08:17:37.574565",
     "exception": false,
     "start_time": "2021-05-20T08:17:37.532554",
     "status": "completed"
    },
    "tags": []
   },
   "source": [
    "That looks way better than chance, which is 10% accuracy (i.e. randomly picking a class out of 10 classes). Seems like the network learnt something.\n",
    "\n",
    "Hmmm, what are the classes that performed well, and the classes that did not perform well:"
   ]
  },
  {
   "cell_type": "code",
   "execution_count": 29,
   "id": "seasonal-knowing",
   "metadata": {
    "execution": {
     "iopub.execute_input": "2021-05-20T08:17:37.666686Z",
     "iopub.status.busy": "2021-05-20T08:17:37.666190Z",
     "iopub.status.idle": "2021-05-20T08:17:45.807337Z",
     "shell.execute_reply": "2021-05-20T08:17:45.808057Z",
     "shell.execute_reply.started": "2021-05-20T07:46:52.949871Z"
    },
    "papermill": {
     "duration": 8.191462,
     "end_time": "2021-05-20T08:17:45.808209",
     "exception": false,
     "start_time": "2021-05-20T08:17:37.616747",
     "status": "completed"
    },
    "tags": []
   },
   "outputs": [
    {
     "name": "stdout",
     "output_type": "stream",
     "text": [
      "Accuracy for class plane is: 67.9 %\n",
      "Accuracy for class car   is: 69.9 %\n",
      "Accuracy for class bird  is: 29.1 %\n",
      "Accuracy for class cat   is: 32.3 %\n",
      "Accuracy for class deer  is: 40.3 %\n",
      "Accuracy for class dog   is: 53.2 %\n",
      "Accuracy for class frog  is: 65.1 %\n",
      "Accuracy for class horse is: 73.8 %\n",
      "Accuracy for class ship  is: 57.2 %\n",
      "Accuracy for class truck is: 64.5 %\n"
     ]
    }
   ],
   "source": [
    "# Prepare to count predictions for each class\n",
    "correct_pred = {classname: 0 for classname in classes}\n",
    "total_pred = {classname: 0 for classname in classes}\n",
    "\n",
    "# Again no gradients needed\n",
    "with torch.no_grad():\n",
    "    for data in testloader:\n",
    "        images, labels = data\n",
    "        outputs = net(images)\n",
    "        _, predictions = torch.max(outputs, 1)\n",
    "        # Collect the correct predictions for each class\n",
    "        for label, prediction in zip(labels, predictions):\n",
    "            if label == prediction:\n",
    "                correct_pred[classes[label]] += 1\n",
    "            total_pred[classes[label]] += 1\n",
    "\n",
    "# Print accuracy for each class\n",
    "for classname, correct_count in correct_pred.items():\n",
    "    accuracy = 100 * float(correct_count) / total_pred[classname]\n",
    "    print(\"Accuracy for class {:5s} is: {:.1f} %\".format(classname,\n",
    "                                                   accuracy))"
   ]
  },
  {
   "cell_type": "markdown",
   "id": "junior-content",
   "metadata": {
    "papermill": {
     "duration": 0.042177,
     "end_time": "2021-05-20T08:17:45.892971",
     "exception": false,
     "start_time": "2021-05-20T08:17:45.850794",
     "status": "completed"
    },
    "tags": []
   },
   "source": [
    "## Training on GPU\n",
    "\n",
    "Just like how you transfer a Tensor onto the GPU, you transfer the neural net onto the GPU.\n",
    "\n",
    "Let’s first define our device as the first visible cuda device if we have CUDA available:"
   ]
  },
  {
   "cell_type": "code",
   "execution_count": 30,
   "id": "equipped-administrator",
   "metadata": {
    "execution": {
     "iopub.execute_input": "2021-05-20T08:17:45.984386Z",
     "iopub.status.busy": "2021-05-20T08:17:45.983836Z",
     "iopub.status.idle": "2021-05-20T08:17:45.988574Z",
     "shell.execute_reply": "2021-05-20T08:17:45.988171Z",
     "shell.execute_reply.started": "2021-05-20T07:47:01.531637Z"
    },
    "papermill": {
     "duration": 0.053119,
     "end_time": "2021-05-20T08:17:45.988682",
     "exception": false,
     "start_time": "2021-05-20T08:17:45.935563",
     "status": "completed"
    },
    "tags": []
   },
   "outputs": [
    {
     "name": "stdout",
     "output_type": "stream",
     "text": [
      "cuda:0\n"
     ]
    }
   ],
   "source": [
    "device = torch.device(\"cuda:0\" if torch.cuda.is_available() else \"cpu\")\n",
    "\n",
    "# Assuming that we are on a CUDA machine, this should print a CUDA device:\n",
    "\n",
    "print(device)"
   ]
  },
  {
   "cell_type": "code",
   "execution_count": 31,
   "id": "painful-shakespeare",
   "metadata": {
    "execution": {
     "iopub.execute_input": "2021-05-20T08:17:46.081055Z",
     "iopub.status.busy": "2021-05-20T08:17:46.080558Z",
     "iopub.status.idle": "2021-05-20T08:17:50.372317Z",
     "shell.execute_reply": "2021-05-20T08:17:50.371550Z",
     "shell.execute_reply.started": "2021-05-20T07:47:01.541963Z"
    },
    "papermill": {
     "duration": 4.34105,
     "end_time": "2021-05-20T08:17:50.372444",
     "exception": false,
     "start_time": "2021-05-20T08:17:46.031394",
     "status": "completed"
    },
    "tags": []
   },
   "outputs": [
    {
     "data": {
      "text/plain": [
       "MyNet(\n",
       "  (conv1): Conv2d(3, 6, kernel_size=(5, 5), stride=(1, 1))\n",
       "  (pool): MaxPool2d(kernel_size=2, stride=2, padding=0, dilation=1, ceil_mode=False)\n",
       "  (conv2): Conv2d(6, 16, kernel_size=(5, 5), stride=(1, 1))\n",
       "  (fc1): Linear(in_features=400, out_features=120, bias=True)\n",
       "  (fc2): Linear(in_features=120, out_features=84, bias=True)\n",
       "  (fc3): Linear(in_features=84, out_features=10, bias=True)\n",
       ")"
      ]
     },
     "execution_count": 31,
     "metadata": {},
     "output_type": "execute_result"
    }
   ],
   "source": [
    "net.to(device)"
   ]
  },
  {
   "cell_type": "code",
   "execution_count": 32,
   "id": "alternate-estate",
   "metadata": {
    "execution": {
     "iopub.execute_input": "2021-05-20T08:17:50.464072Z",
     "iopub.status.busy": "2021-05-20T08:17:50.463082Z",
     "iopub.status.idle": "2021-05-20T08:17:50.465905Z",
     "shell.execute_reply": "2021-05-20T08:17:50.465455Z",
     "shell.execute_reply.started": "2021-05-20T07:47:01.556454Z"
    },
    "papermill": {
     "duration": 0.050186,
     "end_time": "2021-05-20T08:17:50.466022",
     "exception": false,
     "start_time": "2021-05-20T08:17:50.415836",
     "status": "completed"
    },
    "tags": []
   },
   "outputs": [],
   "source": [
    "# Remember that you will have to send the inputs and targets at every step to the GPU too:\n",
    "\n",
    "inputs, labels = data[0].to(device), data[1].to(device)"
   ]
  },
  {
   "cell_type": "code",
   "execution_count": 33,
   "id": "nasty-plymouth",
   "metadata": {
    "execution": {
     "iopub.execute_input": "2021-05-20T08:17:50.559562Z",
     "iopub.status.busy": "2021-05-20T08:17:50.558911Z",
     "iopub.status.idle": "2021-05-20T08:17:50.562658Z",
     "shell.execute_reply": "2021-05-20T08:17:50.563252Z",
     "shell.execute_reply.started": "2021-05-20T07:48:52.34997Z"
    },
    "papermill": {
     "duration": 0.054551,
     "end_time": "2021-05-20T08:17:50.563412",
     "exception": false,
     "start_time": "2021-05-20T08:17:50.508861",
     "status": "completed"
    },
    "tags": []
   },
   "outputs": [
    {
     "name": "stdout",
     "output_type": "stream",
     "text": [
      "Tesla P100-PCIE-16GB\n",
      "Memory Usage:\n",
      "Allocated: 0.0 GB\n",
      "Cached:    0.0 GB\n"
     ]
    }
   ],
   "source": [
    "if device.type == 'cuda':\n",
    "    print(torch.cuda.get_device_name(0))\n",
    "    print('Memory Usage:')\n",
    "    print('Allocated:', round(torch.cuda.memory_allocated(0)/1024**3,1), 'GB')\n",
    "    print('Cached:   ', round(torch.cuda.memory_reserved(0)/1024**3,1), 'GB')    "
   ]
  },
  {
   "cell_type": "code",
   "execution_count": 34,
   "id": "incorporated-chase",
   "metadata": {
    "execution": {
     "iopub.execute_input": "2021-05-20T08:17:50.655522Z",
     "iopub.status.busy": "2021-05-20T08:17:50.654321Z",
     "iopub.status.idle": "2021-05-20T08:17:50.656631Z",
     "shell.execute_reply": "2021-05-20T08:17:50.657075Z"
    },
    "papermill": {
     "duration": 0.049518,
     "end_time": "2021-05-20T08:17:50.657190",
     "exception": false,
     "start_time": "2021-05-20T08:17:50.607672",
     "status": "completed"
    },
    "tags": []
   },
   "outputs": [],
   "source": [
    "torch.cuda.empty_cache()"
   ]
  }
 ],
 "metadata": {
  "kernelspec": {
   "display_name": "Python 3",
   "language": "python",
   "name": "python3"
  },
  "language_info": {
   "codemirror_mode": {
    "name": "ipython",
    "version": 3
   },
   "file_extension": ".py",
   "mimetype": "text/x-python",
   "name": "python",
   "nbconvert_exporter": "python",
   "pygments_lexer": "ipython3",
   "version": "3.7.10"
  },
  "papermill": {
   "default_parameters": {},
   "duration": 173.741733,
   "end_time": "2021-05-20T08:17:52.359622",
   "environment_variables": {},
   "exception": null,
   "input_path": "__notebook__.ipynb",
   "output_path": "__notebook__.ipynb",
   "parameters": {},
   "start_time": "2021-05-20T08:14:58.617889",
   "version": "2.3.3"
  },
  "widgets": {
   "application/vnd.jupyter.widget-state+json": {
    "state": {
     "279f465cd5724e9b960445d73c308883": {
      "model_module": "@jupyter-widgets/base",
      "model_module_version": "1.2.0",
      "model_name": "LayoutModel",
      "state": {
       "_model_module": "@jupyter-widgets/base",
       "_model_module_version": "1.2.0",
       "_model_name": "LayoutModel",
       "_view_count": null,
       "_view_module": "@jupyter-widgets/base",
       "_view_module_version": "1.2.0",
       "_view_name": "LayoutView",
       "align_content": null,
       "align_items": null,
       "align_self": null,
       "border": null,
       "bottom": null,
       "display": null,
       "flex": null,
       "flex_flow": null,
       "grid_area": null,
       "grid_auto_columns": null,
       "grid_auto_flow": null,
       "grid_auto_rows": null,
       "grid_column": null,
       "grid_gap": null,
       "grid_row": null,
       "grid_template_areas": null,
       "grid_template_columns": null,
       "grid_template_rows": null,
       "height": null,
       "justify_content": null,
       "justify_items": null,
       "left": null,
       "margin": null,
       "max_height": null,
       "max_width": null,
       "min_height": null,
       "min_width": null,
       "object_fit": null,
       "object_position": null,
       "order": null,
       "overflow": null,
       "overflow_x": null,
       "overflow_y": null,
       "padding": null,
       "right": null,
       "top": null,
       "visibility": null,
       "width": null
      }
     },
     "31f91a3d333945aaa62c5e1556de289e": {
      "model_module": "@jupyter-widgets/controls",
      "model_module_version": "1.5.0",
      "model_name": "ProgressStyleModel",
      "state": {
       "_model_module": "@jupyter-widgets/controls",
       "_model_module_version": "1.5.0",
       "_model_name": "ProgressStyleModel",
       "_view_count": null,
       "_view_module": "@jupyter-widgets/base",
       "_view_module_version": "1.2.0",
       "_view_name": "StyleView",
       "bar_color": null,
       "description_width": ""
      }
     },
     "33d9efa600034c5fb2d28d3e58e8bbfe": {
      "model_module": "@jupyter-widgets/base",
      "model_module_version": "1.2.0",
      "model_name": "LayoutModel",
      "state": {
       "_model_module": "@jupyter-widgets/base",
       "_model_module_version": "1.2.0",
       "_model_name": "LayoutModel",
       "_view_count": null,
       "_view_module": "@jupyter-widgets/base",
       "_view_module_version": "1.2.0",
       "_view_name": "LayoutView",
       "align_content": null,
       "align_items": null,
       "align_self": null,
       "border": null,
       "bottom": null,
       "display": null,
       "flex": null,
       "flex_flow": null,
       "grid_area": null,
       "grid_auto_columns": null,
       "grid_auto_flow": null,
       "grid_auto_rows": null,
       "grid_column": null,
       "grid_gap": null,
       "grid_row": null,
       "grid_template_areas": null,
       "grid_template_columns": null,
       "grid_template_rows": null,
       "height": null,
       "justify_content": null,
       "justify_items": null,
       "left": null,
       "margin": null,
       "max_height": null,
       "max_width": null,
       "min_height": null,
       "min_width": null,
       "object_fit": null,
       "object_position": null,
       "order": null,
       "overflow": null,
       "overflow_x": null,
       "overflow_y": null,
       "padding": null,
       "right": null,
       "top": null,
       "visibility": null,
       "width": null
      }
     },
     "3f3db70e489e4a9ba7ada58bfbf95837": {
      "model_module": "@jupyter-widgets/base",
      "model_module_version": "1.2.0",
      "model_name": "LayoutModel",
      "state": {
       "_model_module": "@jupyter-widgets/base",
       "_model_module_version": "1.2.0",
       "_model_name": "LayoutModel",
       "_view_count": null,
       "_view_module": "@jupyter-widgets/base",
       "_view_module_version": "1.2.0",
       "_view_name": "LayoutView",
       "align_content": null,
       "align_items": null,
       "align_self": null,
       "border": null,
       "bottom": null,
       "display": null,
       "flex": null,
       "flex_flow": null,
       "grid_area": null,
       "grid_auto_columns": null,
       "grid_auto_flow": null,
       "grid_auto_rows": null,
       "grid_column": null,
       "grid_gap": null,
       "grid_row": null,
       "grid_template_areas": null,
       "grid_template_columns": null,
       "grid_template_rows": null,
       "height": null,
       "justify_content": null,
       "justify_items": null,
       "left": null,
       "margin": null,
       "max_height": null,
       "max_width": null,
       "min_height": null,
       "min_width": null,
       "object_fit": null,
       "object_position": null,
       "order": null,
       "overflow": null,
       "overflow_x": null,
       "overflow_y": null,
       "padding": null,
       "right": null,
       "top": null,
       "visibility": null,
       "width": null
      }
     },
     "4eb16df7edff4d2189b0627563b99964": {
      "model_module": "@jupyter-widgets/controls",
      "model_module_version": "1.5.0",
      "model_name": "FloatProgressModel",
      "state": {
       "_dom_classes": [],
       "_model_module": "@jupyter-widgets/controls",
       "_model_module_version": "1.5.0",
       "_model_name": "FloatProgressModel",
       "_view_count": null,
       "_view_module": "@jupyter-widgets/controls",
       "_view_module_version": "1.5.0",
       "_view_name": "ProgressView",
       "bar_style": "info",
       "description": "",
       "description_tooltip": null,
       "layout": "IPY_MODEL_6354ea15109e46c88c1c51a04c8f3d17",
       "max": 1.0,
       "min": 0.0,
       "orientation": "horizontal",
       "style": "IPY_MODEL_31f91a3d333945aaa62c5e1556de289e",
       "value": 1.0
      }
     },
     "6354ea15109e46c88c1c51a04c8f3d17": {
      "model_module": "@jupyter-widgets/base",
      "model_module_version": "1.2.0",
      "model_name": "LayoutModel",
      "state": {
       "_model_module": "@jupyter-widgets/base",
       "_model_module_version": "1.2.0",
       "_model_name": "LayoutModel",
       "_view_count": null,
       "_view_module": "@jupyter-widgets/base",
       "_view_module_version": "1.2.0",
       "_view_name": "LayoutView",
       "align_content": null,
       "align_items": null,
       "align_self": null,
       "border": null,
       "bottom": null,
       "display": null,
       "flex": null,
       "flex_flow": null,
       "grid_area": null,
       "grid_auto_columns": null,
       "grid_auto_flow": null,
       "grid_auto_rows": null,
       "grid_column": null,
       "grid_gap": null,
       "grid_row": null,
       "grid_template_areas": null,
       "grid_template_columns": null,
       "grid_template_rows": null,
       "height": null,
       "justify_content": null,
       "justify_items": null,
       "left": null,
       "margin": null,
       "max_height": null,
       "max_width": null,
       "min_height": null,
       "min_width": null,
       "object_fit": null,
       "object_position": null,
       "order": null,
       "overflow": null,
       "overflow_x": null,
       "overflow_y": null,
       "padding": null,
       "right": null,
       "top": null,
       "visibility": null,
       "width": "20px"
      }
     },
     "8873de8da721401d92e3a607b91278cb": {
      "model_module": "@jupyter-widgets/controls",
      "model_module_version": "1.5.0",
      "model_name": "HTMLModel",
      "state": {
       "_dom_classes": [],
       "_model_module": "@jupyter-widgets/controls",
       "_model_module_version": "1.5.0",
       "_model_name": "HTMLModel",
       "_view_count": null,
       "_view_module": "@jupyter-widgets/controls",
       "_view_module_version": "1.5.0",
       "_view_name": "HTMLView",
       "description": "",
       "description_tooltip": null,
       "layout": "IPY_MODEL_3f3db70e489e4a9ba7ada58bfbf95837",
       "placeholder": "​",
       "style": "IPY_MODEL_df7166c9761f449bb463c02e96864ab0",
       "value": " 170500096/? [00:20&lt;00:00, 53636189.72it/s]"
      }
     },
     "99b4da7731c24fdbb2b969f84349c8e1": {
      "model_module": "@jupyter-widgets/controls",
      "model_module_version": "1.5.0",
      "model_name": "HTMLModel",
      "state": {
       "_dom_classes": [],
       "_model_module": "@jupyter-widgets/controls",
       "_model_module_version": "1.5.0",
       "_model_name": "HTMLModel",
       "_view_count": null,
       "_view_module": "@jupyter-widgets/controls",
       "_view_module_version": "1.5.0",
       "_view_name": "HTMLView",
       "description": "",
       "description_tooltip": null,
       "layout": "IPY_MODEL_33d9efa600034c5fb2d28d3e58e8bbfe",
       "placeholder": "​",
       "style": "IPY_MODEL_bad7e115f5f7443c8e5b22a795368ae0",
       "value": ""
      }
     },
     "bad7e115f5f7443c8e5b22a795368ae0": {
      "model_module": "@jupyter-widgets/controls",
      "model_module_version": "1.5.0",
      "model_name": "DescriptionStyleModel",
      "state": {
       "_model_module": "@jupyter-widgets/controls",
       "_model_module_version": "1.5.0",
       "_model_name": "DescriptionStyleModel",
       "_view_count": null,
       "_view_module": "@jupyter-widgets/base",
       "_view_module_version": "1.2.0",
       "_view_name": "StyleView",
       "description_width": ""
      }
     },
     "dec512ce73d441579d0229c82ba66af7": {
      "model_module": "@jupyter-widgets/controls",
      "model_module_version": "1.5.0",
      "model_name": "HBoxModel",
      "state": {
       "_dom_classes": [],
       "_model_module": "@jupyter-widgets/controls",
       "_model_module_version": "1.5.0",
       "_model_name": "HBoxModel",
       "_view_count": null,
       "_view_module": "@jupyter-widgets/controls",
       "_view_module_version": "1.5.0",
       "_view_name": "HBoxView",
       "box_style": "",
       "children": [
        "IPY_MODEL_99b4da7731c24fdbb2b969f84349c8e1",
        "IPY_MODEL_4eb16df7edff4d2189b0627563b99964",
        "IPY_MODEL_8873de8da721401d92e3a607b91278cb"
       ],
       "layout": "IPY_MODEL_279f465cd5724e9b960445d73c308883"
      }
     },
     "df7166c9761f449bb463c02e96864ab0": {
      "model_module": "@jupyter-widgets/controls",
      "model_module_version": "1.5.0",
      "model_name": "DescriptionStyleModel",
      "state": {
       "_model_module": "@jupyter-widgets/controls",
       "_model_module_version": "1.5.0",
       "_model_name": "DescriptionStyleModel",
       "_view_count": null,
       "_view_module": "@jupyter-widgets/base",
       "_view_module_version": "1.2.0",
       "_view_name": "StyleView",
       "description_width": ""
      }
     }
    },
    "version_major": 2,
    "version_minor": 0
   }
  }
 },
 "nbformat": 4,
 "nbformat_minor": 5
}
