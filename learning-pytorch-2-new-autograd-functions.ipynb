{
 "cells": [
  {
   "attachments": {
    "87454617-306b-4d9c-a424-0f4d992c70a1.png": {
     "image/png": "[encoded data removed]"
    },
    "9fa1ae53-0199-4166-805d-64a7a92b5917.png": {
     "image/png": "[encoded data removed]"
    },
    "ab9b1699-7b46-4cc5-997f-f1940c308dbd.png": {
     "image/png": "[encoded data removed]"
    },
    "dd0cfd1e-cceb-41d4-b4f8-ffcbe7d850b9.png": {
     "image/png": "[encoded data removed]"
    }
   },
   "cell_type": "markdown",
   "id": "specialized-facing",
   "metadata": {
    "papermill": {
     "duration": 0.008288,
     "end_time": "2021-05-20T08:30:20.971629",
     "exception": false,
     "start_time": "2021-05-20T08:30:20.963341",
     "status": "completed"
    },
    "tags": []
   },
   "source": [
    "# Learning PyTorch: Defining new autograd functions\n",
    "\n",
    "Source: https://pytorch.org/tutorials/beginner/pytorch_with_examples.html#pytorch-defining-new-autograd-functions\n",
    "\n",
    "\n",
    "Under the hood, each primitive autograd operator is really two functions that operate on Tensors. The `forward` function computes output Tensors from input Tensors. The `backward` function receives the gradient of the output Tensors with respect to some scalar value, and computes the gradient of the input Tensors with respect to that same scalar value.\n",
    "\n",
    "If `x` is a Tensor that has `x.requires_grad=True` then `x.grad` is another Tensor holding the gradient of `x` with respect to some scalar value.\n",
    "\n",
    "In PyTorch we can easily define our own autograd operator by defining a subclass of `torch.autograd.Function` and implementing the `forward` and `backward` functions. We can then use our new autograd operator by constructing an instance and calling it like a function, passing Tensors containing input data.\n",
    "\n",
    "In this example we define our model as ![image.png](attachment:87454617-306b-4d9c-a424-0f4d992c70a1.png) instead of ![image.png](attachment:9fa1ae53-0199-4166-805d-64a7a92b5917.png), where ![image.png](attachment:dd0cfd1e-cceb-41d4-b4f8-ffcbe7d850b9.png) is the Legendre polynomial of degree three.\n",
    "\n",
    "We write our own custom autograd function for computing forward and backward of ![image.png](attachment:ab9b1699-7b46-4cc5-997f-f1940c308dbd.png), and use it to implement our model."
   ]
  },
  {
   "cell_type": "code",
   "execution_count": 1,
   "id": "preceding-thinking",
   "metadata": {
    "execution": {
     "iopub.execute_input": "2021-05-20T08:30:20.990611Z",
     "iopub.status.busy": "2021-05-20T08:30:20.989191Z",
     "iopub.status.idle": "2021-05-20T08:30:22.130222Z",
     "shell.execute_reply": "2021-05-20T08:30:22.128817Z",
     "shell.execute_reply.started": "2021-05-20T08:27:29.896649Z"
    },
    "papermill": {
     "duration": 1.151685,
     "end_time": "2021-05-20T08:30:22.130435",
     "exception": false,
     "start_time": "2021-05-20T08:30:20.978750",
     "status": "completed"
    },
    "tags": []
   },
   "outputs": [],
   "source": [
    "import torch\n",
    "import math\n",
    "\n",
    "class LegendrePolynomial3(torch.autograd.Function):\n",
    "    \"\"\"\n",
    "    We can implement our own custom autograd Functions by subclassing torch.autograd.Function \n",
    "    and implementing the forward and backward passes which operate on Tensors.\n",
    "    \"\"\"\n",
    "\n",
    "    @staticmethod\n",
    "    def forward(ctx, input):\n",
    "        \"\"\"\n",
    "        In forward pass we receive a Tensor containing input and return a Tensor containing output. \n",
    "        ctx is a context object that can be used to stash information for backward computation. \n",
    "        You can cache arbitrary objects for use in the backward pass using the \n",
    "        ctx.save_for_backward method.\n",
    "        \"\"\"\n",
    "        ctx.save_for_backward(input)\n",
    "        return 0.5 * (5 * input ** 3 - 3 * input)\n",
    "\n",
    "    @staticmethod\n",
    "    def backward(ctx, grad_output):\n",
    "        \"\"\"\n",
    "        In backward pass we receive a Tensor containing gradient of the loss with respect to the output, \n",
    "        and we need to compute the gradient of the loss with respect to the input.\n",
    "        \"\"\"\n",
    "        input, = ctx.saved_tensors\n",
    "        return grad_output * 1.5 * (5 * input ** 2 - 1)"
   ]
  },
  {
   "cell_type": "code",
   "execution_count": 2,
   "id": "encouraging-briefs",
   "metadata": {
    "execution": {
     "iopub.execute_input": "2021-05-20T08:30:22.157177Z",
     "iopub.status.busy": "2021-05-20T08:30:22.155992Z",
     "iopub.status.idle": "2021-05-20T08:30:22.159483Z",
     "shell.execute_reply": "2021-05-20T08:30:22.158789Z",
     "shell.execute_reply.started": "2021-05-20T08:27:30.957713Z"
    },
    "papermill": {
     "duration": 0.020931,
     "end_time": "2021-05-20T08:30:22.159658",
     "exception": false,
     "start_time": "2021-05-20T08:30:22.138727",
     "status": "completed"
    },
    "tags": []
   },
   "outputs": [],
   "source": [
    "dtype = torch.float\n",
    "device = torch.device(\"cpu\")\n",
    "# device = torch.device(\"cuda:0\")  # Uncomment this to run on GPU"
   ]
  },
  {
   "cell_type": "code",
   "execution_count": 3,
   "id": "proprietary-infection",
   "metadata": {
    "execution": {
     "iopub.execute_input": "2021-05-20T08:30:22.181282Z",
     "iopub.status.busy": "2021-05-20T08:30:22.180289Z",
     "iopub.status.idle": "2021-05-20T08:30:22.249003Z",
     "shell.execute_reply": "2021-05-20T08:30:22.248191Z",
     "shell.execute_reply.started": "2021-05-20T08:27:30.965316Z"
    },
    "papermill": {
     "duration": 0.080664,
     "end_time": "2021-05-20T08:30:22.249166",
     "exception": false,
     "start_time": "2021-05-20T08:30:22.168502",
     "status": "completed"
    },
    "tags": []
   },
   "outputs": [],
   "source": [
    "# Create Tensors to hold input and outputs.\n",
    "# By default, 'requires_grad=False', which indicates that we do not need to\n",
    "# compute gradients with respect to these Tensors during the backward pass.\n",
    "\n",
    "x = torch.linspace(-math.pi, math.pi, 2000, device=device, dtype=dtype)\n",
    "y = torch.sin(x)"
   ]
  },
  {
   "cell_type": "code",
   "execution_count": 4,
   "id": "forced-property",
   "metadata": {
    "execution": {
     "iopub.execute_input": "2021-05-20T08:30:22.269908Z",
     "iopub.status.busy": "2021-05-20T08:30:22.269133Z",
     "iopub.status.idle": "2021-05-20T08:30:22.273875Z",
     "shell.execute_reply": "2021-05-20T08:30:22.274395Z",
     "shell.execute_reply.started": "2021-05-20T08:27:31.041151Z"
    },
    "papermill": {
     "duration": 0.018193,
     "end_time": "2021-05-20T08:30:22.274599",
     "exception": false,
     "start_time": "2021-05-20T08:30:22.256406",
     "status": "completed"
    },
    "tags": []
   },
   "outputs": [],
   "source": [
    "# Create random Tensors for weights. \n",
    "# For this example, we need 4 weights: y = a + b * P3(c + d * x), \n",
    "# these weights need to be initialized not too far from the correct result to ensure convergence.\n",
    "# Setting 'requires_grad=True' indicates that we want to compute gradients with\n",
    "# respect to these Tensors during the backward pass.\n",
    "\n",
    "a = torch.full((), 0.0, device=device, dtype=dtype, requires_grad=True)\n",
    "b = torch.full((), -1.0, device=device, dtype=dtype, requires_grad=True)\n",
    "c = torch.full((), 0.0, device=device, dtype=dtype, requires_grad=True)\n",
    "d = torch.full((), 0.3, device=device, dtype=dtype, requires_grad=True)"
   ]
  },
  {
   "cell_type": "code",
   "execution_count": 5,
   "id": "cardiac-maldives",
   "metadata": {
    "execution": {
     "iopub.execute_input": "2021-05-20T08:30:22.298883Z",
     "iopub.status.busy": "2021-05-20T08:30:22.298175Z",
     "iopub.status.idle": "2021-05-20T08:30:23.173161Z",
     "shell.execute_reply": "2021-05-20T08:30:23.172411Z",
     "shell.execute_reply.started": "2021-05-20T08:27:31.050905Z"
    },
    "papermill": {
     "duration": 0.891578,
     "end_time": "2021-05-20T08:30:23.173305",
     "exception": false,
     "start_time": "2021-05-20T08:30:22.281727",
     "status": "completed"
    },
    "tags": []
   },
   "outputs": [
    {
     "name": "stdout",
     "output_type": "stream",
     "text": [
      "99 209.95834350585938\n",
      "199 144.66018676757812\n",
      "299 100.70249938964844\n",
      "399 71.03519439697266\n",
      "499 50.97850799560547\n",
      "599 37.403133392333984\n",
      "699 28.206867218017578\n",
      "799 21.97318458557129\n",
      "899 17.7457275390625\n",
      "999 14.877889633178711\n",
      "1099 12.93176555633545\n",
      "1199 11.610918998718262\n",
      "1299 10.71425724029541\n",
      "1399 10.10548210144043\n",
      "1499 9.692106246948242\n",
      "1599 9.411375045776367\n",
      "1699 9.220745086669922\n",
      "1799 9.091285705566406\n",
      "1899 9.003360748291016\n",
      "1999 8.943639755249023\n",
      "Result: y = -5.394172664097141e-09 + -2.208526849746704 * P3(1.367587154632588e-09 + 0.2554861009120941 x)\n"
     ]
    }
   ],
   "source": [
    "learning_rate = 5e-6\n",
    "\n",
    "for t in range(2000):\n",
    "    # To apply our Function, we use Function.apply method. We alias this as 'P3'.\n",
    "    P3 = LegendrePolynomial3.apply\n",
    "\n",
    "    # Forward pass: compute predicted y using operations; \n",
    "    # we compute P3 using our custom autograd operation.\n",
    "    y_pred = a + b * P3(c + d * x)\n",
    "\n",
    "    # Compute and print loss\n",
    "    loss = (y_pred - y).pow(2).sum()\n",
    "    if t % 100 == 99:\n",
    "        print(t, loss.item()) # loss.item() gets the scalar value held in the loss.\n",
    "\n",
    "    # Use autograd to compute the backward pass.\n",
    "    loss.backward()\n",
    "\n",
    "    # Update weights using gradient descent\n",
    "    with torch.no_grad():\n",
    "        a -= learning_rate * a.grad\n",
    "        b -= learning_rate * b.grad\n",
    "        c -= learning_rate * c.grad\n",
    "        d -= learning_rate * d.grad\n",
    "\n",
    "        # Manually zero the gradients after updating weights\n",
    "        a.grad = None\n",
    "        b.grad = None\n",
    "        c.grad = None\n",
    "        d.grad = None\n",
    "\n",
    "print(f'Result: y = {a.item()} + {b.item()} * P3({c.item()} + {d.item()} x)')"
   ]
  }
 ],
 "metadata": {
  "kernelspec": {
   "display_name": "Python 3",
   "language": "python",
   "name": "python3"
  },
  "language_info": {
   "codemirror_mode": {
    "name": "ipython",
    "version": 3
   },
   "file_extension": ".py",
   "mimetype": "text/x-python",
   "name": "python",
   "nbconvert_exporter": "python",
   "pygments_lexer": "ipython3",
   "version": "3.7.10"
  },
  "papermill": {
   "default_parameters": {},
   "duration": 11.673715,
   "end_time": "2021-05-20T08:30:23.995007",
   "environment_variables": {},
   "exception": null,
   "input_path": "__notebook__.ipynb",
   "output_path": "__notebook__.ipynb",
   "parameters": {},
   "start_time": "2021-05-20T08:30:12.321292",
   "version": "2.3.3"
  }
 },
 "nbformat": 4,
 "nbformat_minor": 5
}
